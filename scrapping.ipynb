{
 "cells": [
  {
   "cell_type": "code",
   "execution_count": 2,
   "metadata": {},
   "outputs": [],
   "source": [
    "# Import the libraries\n",
    "import requests\n",
    "from bs4 import BeautifulSoup\n",
    "import csv"
   ]
  },
  {
   "cell_type": "code",
   "execution_count": 7,
   "metadata": {},
   "outputs": [
    {
     "name": "stdout",
     "output_type": "stream",
     "text": [
      "<!DOCTYPE html>\n",
      "<html lang=\"en\">\n",
      " <head>\n",
      "  <meta charset=\"utf-8\"/>\n",
      "  <meta content=\"width=device-width,initial-scale=1\" name=\"viewport\"/>\n",
      "  <meta content=\"#000000\" name=\"theme-color\"/>\n",
      "  <meta content=\"house management company\" name=\"description\"/>\n",
      "  <title>\n",
      "   Reel Archers\n",
      "  </title>\n",
      "  <script defer=\"defer\" src=\"/static/js/main.39049a43.js\">\n",
      "  </script>\n",
      "  <link href=\"/static/css/main.d5b5ec56.css\" rel=\"stylesheet\"/>\n",
      " </head>\n",
      " <body>\n",
      "  <noscript>\n",
      "   You need to enable JavaScript to run this app.\n",
      "  </noscript>\n",
      "  <div id=\"root\">\n",
      "  </div>\n",
      " </body>\n",
      "</html>\n"
     ]
    }
   ],
   "source": [
    "page = requests.get('https://reelarcherstudios.com')\n",
    "soup = BeautifulSoup(page.text, 'html.parser')\n",
    "print(soup.prettify())"
   ]
  },
  {
   "cell_type": "code",
   "execution_count": null,
   "metadata": {},
   "outputs": [],
   "source": [
    "# retrieve contents of that class\n",
    "artist_name_list = soup.find(class_ = 'BodyText')\n",
    "\n",
    "# remove bottom links\n",
    "bottom_links = soup.find(class_ = 'AlphaNav')\n",
    "bottom_links.decompose()\n",
    "\n",
    "# writing the data to a csv file\n",
    "f = csv.writer(open('artist_names.csv', 'w'))\n",
    "f.writerow(['Name'])\n",
    "\n",
    "# retrieve artist names from the class \n",
    "artist_names = artist_name_list.find_all('a')\n",
    "for artist_name in artist_names:\n",
    "    artists = artist_name.contents[0]   #removed the link tag/unnecesary info\n",
    "    print(artists)\n",
    "\n",
    "    f.writerow([artists])\n"
   ]
  }
 ],
 "metadata": {
  "kernelspec": {
   "display_name": "base",
   "language": "python",
   "name": "python3"
  },
  "language_info": {
   "codemirror_mode": {
    "name": "ipython",
    "version": 3
   },
   "file_extension": ".py",
   "mimetype": "text/x-python",
   "name": "python",
   "nbconvert_exporter": "python",
   "pygments_lexer": "ipython3",
   "version": "3.9.12"
  },
  "orig_nbformat": 4,
  "vscode": {
   "interpreter": {
    "hash": "b4209db2c9115bd9d8a651c5b93a2ec7d7b7d7b144c90a4aaccedfe82b175c95"
   }
  }
 },
 "nbformat": 4,
 "nbformat_minor": 2
}
