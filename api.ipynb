{
 "cells": [
  {
   "cell_type": "code",
   "execution_count": 1,
   "metadata": {},
   "outputs": [],
   "source": [
    "import requests as re\n",
    "import pandas as pd"
   ]
  },
  {
   "cell_type": "code",
   "execution_count": null,
   "metadata": {},
   "outputs": [],
   "source": [
    "# get population data using Indicators API for Britain, Us, China and Denmark\n",
    "url = 'http://api.worldbank.org/v2/countries/br;cn;us;de/indicators/SP.POP.TOTL/?format=json&per_page=1000'\n",
    "r = re.get(url)\n",
    "r.json()\n",
    "df = pd.DataFrame(r.json()[1])\n",
    "print(df)\n"
   ]
  },
  {
   "cell_type": "code",
   "execution_count": null,
   "metadata": {},
   "outputs": [],
   "source": [
    "# get rural population data for Switzerland between 1995 and 2001 using Indicators API\n",
    "hshref = 'http://api.worldbank.org/v2/country/ch/indicator/SP.RUR.TOTL?format=json&per_page=1000&date>=1995&date<=2001'\n",
    "a = re.get(hshref)\n",
    "a.json()\n",
    "d_frame = pd.DataFrame(a.json()[1])\n",
    "print(d_frame)\n"
   ]
  },
  {
   "cell_type": "code",
   "execution_count": null,
   "metadata": {},
   "outputs": [],
   "source": [
    "# retrieve data on employment of males in agricluture in Kenya by IndicatorAPI\n",
    "kalink = 'http://api.worldbank.org/v2/country/ke/indicator/SL.AGR.EMPL.MA.ZS?format=json&date=2013:2017'\n",
    "endea = re.get(kalink)\n",
    "endea.json()\n",
    "fremu = pd.DataFrame(endea.json()[1])\n",
    "print(fremu)"
   ]
  }
 ],
 "metadata": {
  "kernelspec": {
   "display_name": "base",
   "language": "python",
   "name": "python3"
  },
  "language_info": {
   "codemirror_mode": {
    "name": "ipython",
    "version": 3
   },
   "file_extension": ".py",
   "mimetype": "text/x-python",
   "name": "python",
   "nbconvert_exporter": "python",
   "pygments_lexer": "ipython3",
   "version": "3.9.12"
  },
  "orig_nbformat": 4,
  "vscode": {
   "interpreter": {
    "hash": "b4209db2c9115bd9d8a651c5b93a2ec7d7b7d7b144c90a4aaccedfe82b175c95"
   }
  }
 },
 "nbformat": 4,
 "nbformat_minor": 2
}
